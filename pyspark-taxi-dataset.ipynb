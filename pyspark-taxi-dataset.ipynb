{
 "cells": [
  {
   "cell_type": "code",
   "execution_count": 1,
   "metadata": {},
   "outputs": [
    {
     "name": "stdout",
     "output_type": "stream",
     "text": [
      "/root/notebooks/pyspark-taxi.ipynb\n"
     ]
    }
   ],
   "source": [
    "!pwd"
   ]
  },
  {
   "cell_type": "code",
   "execution_count": 2,
   "metadata": {
    "collapsed": true
   },
   "outputs": [],
   "source": [
    "#!gsutil help"
   ]
  },
  {
   "cell_type": "code",
   "execution_count": 3,
   "metadata": {},
   "outputs": [
    {
     "name": "stdout",
     "output_type": "stream",
     "text": [
      "Requirement already satisfied (use --upgrade to upgrade): google-compute-engine in /opt/conda/lib/python2.7/site-packages\n",
      "Requirement already satisfied (use --upgrade to upgrade): setuptools in /opt/conda/lib/python2.7/site-packages/setuptools-27.2.0-py2.7.egg (from google-compute-engine)\n",
      "Requirement already satisfied (use --upgrade to upgrade): boto in /opt/conda/lib/python2.7/site-packages (from google-compute-engine)\n",
      "\u001b[33mYou are using pip version 8.1.2, however version 9.0.1 is available.\n",
      "You should consider upgrading via the 'pip install --upgrade pip' command.\u001b[0m\n"
     ]
    }
   ],
   "source": [
    "!pip install google-compute-engine"
   ]
  },
  {
   "cell_type": "code",
   "execution_count": 4,
   "metadata": {},
   "outputs": [
    {
     "name": "stdout",
     "output_type": "stream",
     "text": [
      "AccessDeniedException: 403 476679779144-compute@developer.gserviceaccount.com does not have storage.objects.list access to anu_notebooks.\n"
     ]
    }
   ],
   "source": [
    "#!gsutil cp -r gs://. gs://anu_notebooks/pyspark-taxi.ipynb"
   ]
  },
  {
   "cell_type": "code",
   "execution_count": null,
   "metadata": {
    "collapsed": true
   },
   "outputs": [],
   "source": [
    "#!gsutil cp gs://datasci-450/resources/notebooks/pyspark-taxi.ipynb ."
   ]
  },
  {
   "cell_type": "code",
   "execution_count": 5,
   "metadata": {},
   "outputs": [
    {
     "name": "stdout",
     "output_type": "stream",
     "text": [
      "Requirement already satisfied (use --upgrade to upgrade): pandas in /opt/conda/lib/python2.7/site-packages\n",
      "Requirement already satisfied (use --upgrade to upgrade): numpy in /opt/conda/lib/python2.7/site-packages\n",
      "Requirement already satisfied (use --upgrade to upgrade): matplotlib in /opt/conda/lib/python2.7/site-packages\n",
      "Requirement already satisfied (use --upgrade to upgrade): seaborn in /opt/conda/lib/python2.7/site-packages\n",
      "Requirement already satisfied (use --upgrade to upgrade): pytz>=2011k in /opt/conda/lib/python2.7/site-packages (from pandas)\n",
      "Requirement already satisfied (use --upgrade to upgrade): python-dateutil in /opt/conda/lib/python2.7/site-packages (from pandas)\n",
      "Requirement already satisfied (use --upgrade to upgrade): pyparsing!=2.0.4,!=2.1.2,!=2.1.6,>=2.0.1 in /opt/conda/lib/python2.7/site-packages (from matplotlib)\n",
      "Requirement already satisfied (use --upgrade to upgrade): backports.functools-lru-cache in /opt/conda/lib/python2.7/site-packages (from matplotlib)\n",
      "Requirement already satisfied (use --upgrade to upgrade): six>=1.10 in /opt/conda/lib/python2.7/site-packages (from matplotlib)\n",
      "Requirement already satisfied (use --upgrade to upgrade): subprocess32 in /opt/conda/lib/python2.7/site-packages (from matplotlib)\n",
      "Requirement already satisfied (use --upgrade to upgrade): cycler>=0.10 in /opt/conda/lib/python2.7/site-packages (from matplotlib)\n",
      "Requirement already satisfied (use --upgrade to upgrade): scipy in /opt/conda/lib/python2.7/site-packages (from seaborn)\n",
      "\u001b[33mYou are using pip version 8.1.2, however version 9.0.1 is available.\n",
      "You should consider upgrading via the 'pip install --upgrade pip' command.\u001b[0m\n"
     ]
    }
   ],
   "source": [
    "!pip install pandas numpy matplotlib seaborn"
   ]
  },
  {
   "cell_type": "code",
   "execution_count": 6,
   "metadata": {
    "collapsed": true
   },
   "outputs": [],
   "source": [
    "import pyspark\n",
    "from pyspark.ml.linalg import Vectors\n",
    "from pyspark import ml"
   ]
  },
  {
   "cell_type": "code",
   "execution_count": 7,
   "metadata": {},
   "outputs": [
    {
     "data": {
      "text/plain": [
       "DataFrame[vendor_id: int, pickup_datetime: string, dropoff_datetime: string, passenger_count: int, trip_distance: double, pickup_longitude: double, pickup_latitude: double, rate_code: int, store_and_fwd_flag: string, dropoff_longitude: double, dropoff_latitude: double, payment_type: int, fare_amount: double, extra: double, mta_tax: double, tip_amount: double, tolls_amount: double, imp_surcharge: double, total_amount: double]"
      ]
     },
     "execution_count": 7,
     "metadata": {},
     "output_type": "execute_result"
    }
   ],
   "source": [
    "storage_url = 'gs://anu_taxidata/yellow-2015-000000000000.csv'\n",
    "taxi = (spark.read\n",
    "           .format('csv')\n",
    "           .load(storage_url,header=True,inferSchema=True))\n",
    "taxi"
   ]
  },
  {
   "cell_type": "code",
   "execution_count": 8,
   "metadata": {},
   "outputs": [
    {
     "data": {
      "text/plain": [
       "['vendor_id',\n",
       " 'pickup_datetime',\n",
       " 'dropoff_datetime',\n",
       " 'passenger_count',\n",
       " 'trip_distance',\n",
       " 'pickup_longitude',\n",
       " 'pickup_latitude',\n",
       " 'rate_code',\n",
       " 'store_and_fwd_flag',\n",
       " 'dropoff_longitude',\n",
       " 'dropoff_latitude',\n",
       " 'payment_type',\n",
       " 'fare_amount',\n",
       " 'extra',\n",
       " 'mta_tax',\n",
       " 'tip_amount',\n",
       " 'tolls_amount',\n",
       " 'imp_surcharge',\n",
       " 'total_amount']"
      ]
     },
     "execution_count": 8,
     "metadata": {},
     "output_type": "execute_result"
    }
   ],
   "source": [
    "taxi.columns"
   ]
  },
  {
   "cell_type": "code",
   "execution_count": 9,
   "metadata": {},
   "outputs": [
    {
     "data": {
      "text/plain": [
       "1000001"
      ]
     },
     "execution_count": 9,
     "metadata": {},
     "output_type": "execute_result"
    }
   ],
   "source": [
    "taxi.count()"
   ]
  },
  {
   "cell_type": "code",
   "execution_count": 10,
   "metadata": {
    "collapsed": true
   },
   "outputs": [],
   "source": [
    "import pandas as pd\n",
    "import matplotlib"
   ]
  },
  {
   "cell_type": "code",
   "execution_count": 11,
   "metadata": {},
   "outputs": [
    {
     "data": {
      "text/plain": [
       "100102"
      ]
     },
     "execution_count": 11,
     "metadata": {},
     "output_type": "execute_result"
    }
   ],
   "source": [
    "taxi_sample = taxi.sample(withReplacement=False, fraction=0.1, seed=777)\n",
    "taxi_local = taxi_sample.toPandas()\n",
    "len(taxi_local)"
   ]
  },
  {
   "cell_type": "code",
   "execution_count": 12,
   "metadata": {},
   "outputs": [
    {
     "data": {
      "text/plain": [
       "<matplotlib.axes._subplots.AxesSubplot at 0x7f9db5d23790>"
      ]
     },
     "execution_count": 12,
     "metadata": {},
     "output_type": "execute_result"
    },
    {
     "data": {
      "image/png": "[encoded data removed]",
      "text/plain": [
       "<matplotlib.figure.Figure at 0x7f9de443b210>"
      ]
     },
     "metadata": {},
     "output_type": "display_data"
    }
   ],
   "source": [
    "import matplotlib\n",
    "%matplotlib inline\n",
    "taxi_local.plot(kind='scatter',x='total_amount',y='tip_amount',alpha=0.5)"
   ]
  },
  {
   "cell_type": "code",
   "execution_count": 13,
   "metadata": {},
   "outputs": [
    {
     "data": {
      "text/plain": [
       "100102"
      ]
     },
     "execution_count": 13,
     "metadata": {},
     "output_type": "execute_result"
    }
   ],
   "source": [
    "taxi_local.dropna()\n",
    "len(taxi_local)"
   ]
  },
  {
   "cell_type": "code",
   "execution_count": 14,
   "metadata": {},
   "outputs": [
    {
     "data": {
      "text/plain": [
       "<matplotlib.axes._subplots.AxesSubplot at 0x7f9db6904750>"
      ]
     },
     "execution_count": 14,
     "metadata": {},
     "output_type": "execute_result"
    },
    {
     "data": {
      "image/png": "[encoded data removed]",
      "text/plain": [
       "<matplotlib.figure.Figure at 0x7f9db5c99fd0>"
      ]
     },
     "metadata": {},
     "output_type": "display_data"
    }
   ],
   "source": [
    "taxi_local= taxi_local[(taxi_local.tip_amount > 0.0) | (taxi_local.total_amount > 0.0) |\n",
    "                      (taxi_local.tip_amount <= (taxi_local['total_amount']))]\n",
    "len(taxi_local)\n",
    "taxi_local.plot(kind='scatter',x='total_amount',y='tip_amount',alpha=0.5)"
   ]
  },
  {
   "cell_type": "code",
   "execution_count": 15,
   "metadata": {},
   "outputs": [
    {
     "data": {
      "text/plain": [
       "<matplotlib.axes._subplots.AxesSubplot at 0x7f9db479fc90>"
      ]
     },
     "execution_count": 15,
     "metadata": {},
     "output_type": "execute_result"
    },
    {
     "data": {
      "image/png": "[encoded data removed]",
      "text/plain": [
       "<matplotlib.figure.Figure at 0x7f9db5c2b3d0>"
      ]
     },
     "metadata": {},
     "output_type": "display_data"
    }
   ],
   "source": [
    "taxi_local.plot(kind='scatter',x='total_amount',y='tip_amount',c='passenger_count',alpha=0.3,colormap='jet')"
   ]
  },
  {
   "cell_type": "code",
   "execution_count": 16,
   "metadata": {},
   "outputs": [
    {
     "name": "stderr",
     "output_type": "stream",
     "text": [
      "ERROR:root:Line magic function `%seaborn` not found.\n"
     ]
    }
   ],
   "source": [
    "import seaborn\n",
    "%seaborn inline"
   ]
  },
  {
   "cell_type": "code",
   "execution_count": 18,
   "metadata": {},
   "outputs": [
    {
     "data": {
      "text/html": [
       "<div>\n",
       "<style scoped>\n",
       "    .dataframe tbody tr th:only-of-type {\n",
       "        vertical-align: middle;\n",
       "    }\n",
       "\n",
       "    .dataframe tbody tr th {\n",
       "        vertical-align: top;\n",
       "    }\n",
       "\n",
       "    .dataframe thead th {\n",
       "        text-align: right;\n",
       "    }\n",
       "</style>\n",
       "<table border=\"1\" class=\"dataframe\">\n",
       "  <thead>\n",
       "    <tr style=\"text-align: right;\">\n",
       "      <th></th>\n",
       "      <th>vendor_id</th>\n",
       "      <th>passenger_count</th>\n",
       "      <th>trip_distance</th>\n",
       "      <th>pickup_longitude</th>\n",
       "      <th>pickup_latitude</th>\n",
       "      <th>rate_code</th>\n",
       "      <th>dropoff_longitude</th>\n",
       "      <th>dropoff_latitude</th>\n",
       "      <th>payment_type</th>\n",
       "      <th>fare_amount</th>\n",
       "      <th>extra</th>\n",
       "      <th>mta_tax</th>\n",
       "      <th>tip_amount</th>\n",
       "      <th>tolls_amount</th>\n",
       "      <th>imp_surcharge</th>\n",
       "      <th>total_amount</th>\n",
       "    </tr>\n",
       "  </thead>\n",
       "  <tbody>\n",
       "    <tr>\n",
       "      <th>vendor_id</th>\n",
       "      <td>1.000000</td>\n",
       "      <td>0.290208</td>\n",
       "      <td>0.017364</td>\n",
       "      <td>-0.049846</td>\n",
       "      <td>0.049955</td>\n",
       "      <td>-0.000211</td>\n",
       "      <td>-0.046828</td>\n",
       "      <td>0.046898</td>\n",
       "      <td>-0.015864</td>\n",
       "      <td>0.013531</td>\n",
       "      <td>0.006634</td>\n",
       "      <td>0.017011</td>\n",
       "      <td>0.010990</td>\n",
       "      <td>0.010177</td>\n",
       "      <td>0.063163</td>\n",
       "      <td>0.014486</td>\n",
       "    </tr>\n",
       "    <tr>\n",
       "      <th>passenger_count</th>\n",
       "      <td>0.290208</td>\n",
       "      <td>1.000000</td>\n",
       "      <td>0.015113</td>\n",
       "      <td>-0.022562</td>\n",
       "      <td>0.022534</td>\n",
       "      <td>-0.001003</td>\n",
       "      <td>-0.021836</td>\n",
       "      <td>0.021830</td>\n",
       "      <td>0.010620</td>\n",
       "      <td>0.010781</td>\n",
       "      <td>0.005704</td>\n",
       "      <td>0.005921</td>\n",
       "      <td>-0.003163</td>\n",
       "      <td>0.012871</td>\n",
       "      <td>0.012377</td>\n",
       "      <td>0.009892</td>\n",
       "    </tr>\n",
       "    <tr>\n",
       "      <th>trip_distance</th>\n",
       "      <td>0.017364</td>\n",
       "      <td>0.015113</td>\n",
       "      <td>1.000000</td>\n",
       "      <td>-0.012256</td>\n",
       "      <td>0.012748</td>\n",
       "      <td>0.214109</td>\n",
       "      <td>-0.018848</td>\n",
       "      <td>0.019063</td>\n",
       "      <td>-0.053992</td>\n",
       "      <td>0.872225</td>\n",
       "      <td>-0.061414</td>\n",
       "      <td>-0.127716</td>\n",
       "      <td>0.533137</td>\n",
       "      <td>0.602817</td>\n",
       "      <td>0.002621</td>\n",
       "      <td>0.880568</td>\n",
       "    </tr>\n",
       "    <tr>\n",
       "      <th>pickup_longitude</th>\n",
       "      <td>-0.049846</td>\n",
       "      <td>-0.022562</td>\n",
       "      <td>-0.012256</td>\n",
       "      <td>1.000000</td>\n",
       "      <td>-0.999978</td>\n",
       "      <td>0.068523</td>\n",
       "      <td>0.869595</td>\n",
       "      <td>-0.869624</td>\n",
       "      <td>0.000133</td>\n",
       "      <td>0.027364</td>\n",
       "      <td>-0.007144</td>\n",
       "      <td>-0.038681</td>\n",
       "      <td>0.003776</td>\n",
       "      <td>-0.006173</td>\n",
       "      <td>-0.012948</td>\n",
       "      <td>0.022447</td>\n",
       "    </tr>\n",
       "    <tr>\n",
       "      <th>pickup_latitude</th>\n",
       "      <td>0.049955</td>\n",
       "      <td>0.022534</td>\n",
       "      <td>0.012748</td>\n",
       "      <td>-0.999978</td>\n",
       "      <td>1.000000</td>\n",
       "      <td>-0.068530</td>\n",
       "      <td>-0.869586</td>\n",
       "      <td>0.869638</td>\n",
       "      <td>0.000157</td>\n",
       "      <td>-0.027094</td>\n",
       "      <td>0.006846</td>\n",
       "      <td>0.038778</td>\n",
       "      <td>-0.003563</td>\n",
       "      <td>0.007154</td>\n",
       "      <td>0.012961</td>\n",
       "      <td>-0.022089</td>\n",
       "    </tr>\n",
       "    <tr>\n",
       "      <th>rate_code</th>\n",
       "      <td>-0.000211</td>\n",
       "      <td>-0.001003</td>\n",
       "      <td>0.214109</td>\n",
       "      <td>0.068523</td>\n",
       "      <td>-0.068530</td>\n",
       "      <td>1.000000</td>\n",
       "      <td>0.060792</td>\n",
       "      <td>-0.061011</td>\n",
       "      <td>0.007591</td>\n",
       "      <td>0.408760</td>\n",
       "      <td>-0.062749</td>\n",
       "      <td>-0.392452</td>\n",
       "      <td>0.149794</td>\n",
       "      <td>0.223151</td>\n",
       "      <td>-0.285113</td>\n",
       "      <td>0.383096</td>\n",
       "    </tr>\n",
       "    <tr>\n",
       "      <th>dropoff_longitude</th>\n",
       "      <td>-0.046828</td>\n",
       "      <td>-0.021836</td>\n",
       "      <td>-0.018848</td>\n",
       "      <td>0.869595</td>\n",
       "      <td>-0.869586</td>\n",
       "      <td>0.060792</td>\n",
       "      <td>1.000000</td>\n",
       "      <td>-0.999920</td>\n",
       "      <td>0.013988</td>\n",
       "      <td>0.020533</td>\n",
       "      <td>-0.005475</td>\n",
       "      <td>-0.029592</td>\n",
       "      <td>-0.004316</td>\n",
       "      <td>-0.007630</td>\n",
       "      <td>-0.018198</td>\n",
       "      <td>0.015239</td>\n",
       "    </tr>\n",
       "    <tr>\n",
       "      <th>dropoff_latitude</th>\n",
       "      <td>0.046898</td>\n",
       "      <td>0.021830</td>\n",
       "      <td>0.019063</td>\n",
       "      <td>-0.869624</td>\n",
       "      <td>0.869638</td>\n",
       "      <td>-0.061011</td>\n",
       "      <td>-0.999920</td>\n",
       "      <td>1.000000</td>\n",
       "      <td>-0.013519</td>\n",
       "      <td>-0.020652</td>\n",
       "      <td>0.005385</td>\n",
       "      <td>0.030480</td>\n",
       "      <td>0.004106</td>\n",
       "      <td>0.007856</td>\n",
       "      <td>0.018182</td>\n",
       "      <td>-0.015352</td>\n",
       "    </tr>\n",
       "    <tr>\n",
       "      <th>payment_type</th>\n",
       "      <td>-0.015864</td>\n",
       "      <td>0.010620</td>\n",
       "      <td>-0.053992</td>\n",
       "      <td>0.000133</td>\n",
       "      <td>0.000157</td>\n",
       "      <td>0.007591</td>\n",
       "      <td>0.013988</td>\n",
       "      <td>-0.013519</td>\n",
       "      <td>1.000000</td>\n",
       "      <td>-0.059161</td>\n",
       "      <td>-0.017808</td>\n",
       "      <td>-0.001471</td>\n",
       "      <td>-0.529818</td>\n",
       "      <td>-0.036828</td>\n",
       "      <td>-0.012873</td>\n",
       "      <td>-0.148113</td>\n",
       "    </tr>\n",
       "    <tr>\n",
       "      <th>fare_amount</th>\n",
       "      <td>0.013531</td>\n",
       "      <td>0.010781</td>\n",
       "      <td>0.872225</td>\n",
       "      <td>0.027364</td>\n",
       "      <td>-0.027094</td>\n",
       "      <td>0.408760</td>\n",
       "      <td>0.020533</td>\n",
       "      <td>-0.020652</td>\n",
       "      <td>-0.059161</td>\n",
       "      <td>1.000000</td>\n",
       "      <td>-0.074564</td>\n",
       "      <td>-0.267921</td>\n",
       "      <td>0.534505</td>\n",
       "      <td>0.563133</td>\n",
       "      <td>-0.015686</td>\n",
       "      <td>0.982000</td>\n",
       "    </tr>\n",
       "    <tr>\n",
       "      <th>extra</th>\n",
       "      <td>0.006634</td>\n",
       "      <td>0.005704</td>\n",
       "      <td>-0.061414</td>\n",
       "      <td>-0.007144</td>\n",
       "      <td>0.006846</td>\n",
       "      <td>-0.062749</td>\n",
       "      <td>-0.005475</td>\n",
       "      <td>0.005385</td>\n",
       "      <td>-0.017808</td>\n",
       "      <td>-0.074564</td>\n",
       "      <td>1.000000</td>\n",
       "      <td>0.039867</td>\n",
       "      <td>-0.022397</td>\n",
       "      <td>-0.075194</td>\n",
       "      <td>0.008879</td>\n",
       "      <td>-0.047037</td>\n",
       "    </tr>\n",
       "    <tr>\n",
       "      <th>mta_tax</th>\n",
       "      <td>0.017011</td>\n",
       "      <td>0.005921</td>\n",
       "      <td>-0.127716</td>\n",
       "      <td>-0.038681</td>\n",
       "      <td>0.038778</td>\n",
       "      <td>-0.392452</td>\n",
       "      <td>-0.029592</td>\n",
       "      <td>0.030480</td>\n",
       "      <td>-0.001471</td>\n",
       "      <td>-0.267921</td>\n",
       "      <td>0.039867</td>\n",
       "      <td>1.000000</td>\n",
       "      <td>-0.134751</td>\n",
       "      <td>-0.281338</td>\n",
       "      <td>0.033537</td>\n",
       "      <td>-0.272574</td>\n",
       "    </tr>\n",
       "    <tr>\n",
       "      <th>tip_amount</th>\n",
       "      <td>0.010990</td>\n",
       "      <td>-0.003163</td>\n",
       "      <td>0.533137</td>\n",
       "      <td>0.003776</td>\n",
       "      <td>-0.003563</td>\n",
       "      <td>0.149794</td>\n",
       "      <td>-0.004316</td>\n",
       "      <td>0.004106</td>\n",
       "      <td>-0.529818</td>\n",
       "      <td>0.534505</td>\n",
       "      <td>-0.022397</td>\n",
       "      <td>-0.134751</td>\n",
       "      <td>1.000000</td>\n",
       "      <td>0.426383</td>\n",
       "      <td>0.011448</td>\n",
       "      <td>0.666180</td>\n",
       "    </tr>\n",
       "    <tr>\n",
       "      <th>tolls_amount</th>\n",
       "      <td>0.010177</td>\n",
       "      <td>0.012871</td>\n",
       "      <td>0.602817</td>\n",
       "      <td>-0.006173</td>\n",
       "      <td>0.007154</td>\n",
       "      <td>0.223151</td>\n",
       "      <td>-0.007630</td>\n",
       "      <td>0.007856</td>\n",
       "      <td>-0.036828</td>\n",
       "      <td>0.563133</td>\n",
       "      <td>-0.075194</td>\n",
       "      <td>-0.281338</td>\n",
       "      <td>0.426383</td>\n",
       "      <td>1.000000</td>\n",
       "      <td>0.002333</td>\n",
       "      <td>0.645867</td>\n",
       "    </tr>\n",
       "    <tr>\n",
       "      <th>imp_surcharge</th>\n",
       "      <td>0.063163</td>\n",
       "      <td>0.012377</td>\n",
       "      <td>0.002621</td>\n",
       "      <td>-0.012948</td>\n",
       "      <td>0.012961</td>\n",
       "      <td>-0.285113</td>\n",
       "      <td>-0.018198</td>\n",
       "      <td>0.018182</td>\n",
       "      <td>-0.012873</td>\n",
       "      <td>-0.015686</td>\n",
       "      <td>0.008879</td>\n",
       "      <td>0.033537</td>\n",
       "      <td>0.011448</td>\n",
       "      <td>0.002333</td>\n",
       "      <td>1.000000</td>\n",
       "      <td>-0.010241</td>\n",
       "    </tr>\n",
       "    <tr>\n",
       "      <th>total_amount</th>\n",
       "      <td>0.014486</td>\n",
       "      <td>0.009892</td>\n",
       "      <td>0.880568</td>\n",
       "      <td>0.022447</td>\n",
       "      <td>-0.022089</td>\n",
       "      <td>0.383096</td>\n",
       "      <td>0.015239</td>\n",
       "      <td>-0.015352</td>\n",
       "      <td>-0.148113</td>\n",
       "      <td>0.982000</td>\n",
       "      <td>-0.047037</td>\n",
       "      <td>-0.272574</td>\n",
       "      <td>0.666180</td>\n",
       "      <td>0.645867</td>\n",
       "      <td>-0.010241</td>\n",
       "      <td>1.000000</td>\n",
       "    </tr>\n",
       "  </tbody>\n",
       "</table>\n",
       "</div>"
      ],
      "text/plain": [
       "                   vendor_id  passenger_count  trip_distance  \\\n",
       "vendor_id           1.000000         0.290208       0.017364   \n",
       "passenger_count     0.290208         1.000000       0.015113   \n",
       "trip_distance       0.017364         0.015113       1.000000   \n",
       "pickup_longitude   -0.049846        -0.022562      -0.012256   \n",
       "pickup_latitude     0.049955         0.022534       0.012748   \n",
       "rate_code          -0.000211        -0.001003       0.214109   \n",
       "dropoff_longitude  -0.046828        -0.021836      -0.018848   \n",
       "dropoff_latitude    0.046898         0.021830       0.019063   \n",
       "payment_type       -0.015864         0.010620      -0.053992   \n",
       "fare_amount         0.013531         0.010781       0.872225   \n",
       "extra               0.006634         0.005704      -0.061414   \n",
       "mta_tax             0.017011         0.005921      -0.127716   \n",
       "tip_amount          0.010990        -0.003163       0.533137   \n",
       "tolls_amount        0.010177         0.012871       0.602817   \n",
       "imp_surcharge       0.063163         0.012377       0.002621   \n",
       "total_amount        0.014486         0.009892       0.880568   \n",
       "\n",
       "                   pickup_longitude  pickup_latitude  rate_code  \\\n",
       "vendor_id                 -0.049846         0.049955  -0.000211   \n",
       "passenger_count           -0.022562         0.022534  -0.001003   \n",
       "trip_distance             -0.012256         0.012748   0.214109   \n",
       "pickup_longitude           1.000000        -0.999978   0.068523   \n",
       "pickup_latitude           -0.999978         1.000000  -0.068530   \n",
       "rate_code                  0.068523        -0.068530   1.000000   \n",
       "dropoff_longitude          0.869595        -0.869586   0.060792   \n",
       "dropoff_latitude          -0.869624         0.869638  -0.061011   \n",
       "payment_type               0.000133         0.000157   0.007591   \n",
       "fare_amount                0.027364        -0.027094   0.408760   \n",
       "extra                     -0.007144         0.006846  -0.062749   \n",
       "mta_tax                   -0.038681         0.038778  -0.392452   \n",
       "tip_amount                 0.003776        -0.003563   0.149794   \n",
       "tolls_amount              -0.006173         0.007154   0.223151   \n",
       "imp_surcharge             -0.012948         0.012961  -0.285113   \n",
       "total_amount               0.022447        -0.022089   0.383096   \n",
       "\n",
       "                   dropoff_longitude  dropoff_latitude  payment_type  \\\n",
       "vendor_id                  -0.046828          0.046898     -0.015864   \n",
       "passenger_count            -0.021836          0.021830      0.010620   \n",
       "trip_distance              -0.018848          0.019063     -0.053992   \n",
       "pickup_longitude            0.869595         -0.869624      0.000133   \n",
       "pickup_latitude            -0.869586          0.869638      0.000157   \n",
       "rate_code                   0.060792         -0.061011      0.007591   \n",
       "dropoff_longitude           1.000000         -0.999920      0.013988   \n",
       "dropoff_latitude           -0.999920          1.000000     -0.013519   \n",
       "payment_type                0.013988         -0.013519      1.000000   \n",
       "fare_amount                 0.020533         -0.020652     -0.059161   \n",
       "extra                      -0.005475          0.005385     -0.017808   \n",
       "mta_tax                    -0.029592          0.030480     -0.001471   \n",
       "tip_amount                 -0.004316          0.004106     -0.529818   \n",
       "tolls_amount               -0.007630          0.007856     -0.036828   \n",
       "imp_surcharge              -0.018198          0.018182     -0.012873   \n",
       "total_amount                0.015239         -0.015352     -0.148113   \n",
       "\n",
       "                   fare_amount     extra   mta_tax  tip_amount  tolls_amount  \\\n",
       "vendor_id             0.013531  0.006634  0.017011    0.010990      0.010177   \n",
       "passenger_count       0.010781  0.005704  0.005921   -0.003163      0.012871   \n",
       "trip_distance         0.872225 -0.061414 -0.127716    0.533137      0.602817   \n",
       "pickup_longitude      0.027364 -0.007144 -0.038681    0.003776     -0.006173   \n",
       "pickup_latitude      -0.027094  0.006846  0.038778   -0.003563      0.007154   \n",
       "rate_code             0.408760 -0.062749 -0.392452    0.149794      0.223151   \n",
       "dropoff_longitude     0.020533 -0.005475 -0.029592   -0.004316     -0.007630   \n",
       "dropoff_latitude     -0.020652  0.005385  0.030480    0.004106      0.007856   \n",
       "payment_type         -0.059161 -0.017808 -0.001471   -0.529818     -0.036828   \n",
       "fare_amount           1.000000 -0.074564 -0.267921    0.534505      0.563133   \n",
       "extra                -0.074564  1.000000  0.039867   -0.022397     -0.075194   \n",
       "mta_tax              -0.267921  0.039867  1.000000   -0.134751     -0.281338   \n",
       "tip_amount            0.534505 -0.022397 -0.134751    1.000000      0.426383   \n",
       "tolls_amount          0.563133 -0.075194 -0.281338    0.426383      1.000000   \n",
       "imp_surcharge        -0.015686  0.008879  0.033537    0.011448      0.002333   \n",
       "total_amount          0.982000 -0.047037 -0.272574    0.666180      0.645867   \n",
       "\n",
       "                   imp_surcharge  total_amount  \n",
       "vendor_id               0.063163      0.014486  \n",
       "passenger_count         0.012377      0.009892  \n",
       "trip_distance           0.002621      0.880568  \n",
       "pickup_longitude       -0.012948      0.022447  \n",
       "pickup_latitude         0.012961     -0.022089  \n",
       "rate_code              -0.285113      0.383096  \n",
       "dropoff_longitude      -0.018198      0.015239  \n",
       "dropoff_latitude        0.018182     -0.015352  \n",
       "payment_type           -0.012873     -0.148113  \n",
       "fare_amount            -0.015686      0.982000  \n",
       "extra                   0.008879     -0.047037  \n",
       "mta_tax                 0.033537     -0.272574  \n",
       "tip_amount              0.011448      0.666180  \n",
       "tolls_amount            0.002333      0.645867  \n",
       "imp_surcharge           1.000000     -0.010241  \n",
       "total_amount           -0.010241      1.000000  "
      ]
     },
     "execution_count": 18,
     "metadata": {},
     "output_type": "execute_result"
    }
   ],
   "source": [
    "taxi_local.corr()"
   ]
  },
  {
   "cell_type": "code",
   "execution_count": 19,
   "metadata": {},
   "outputs": [
    {
     "data": {
      "text/html": [
       "<div>\n",
       "<style scoped>\n",
       "    .dataframe tbody tr th:only-of-type {\n",
       "        vertical-align: middle;\n",
       "    }\n",
       "\n",
       "    .dataframe tbody tr th {\n",
       "        vertical-align: top;\n",
       "    }\n",
       "\n",
       "    .dataframe thead th {\n",
       "        text-align: right;\n",
       "    }\n",
       "</style>\n",
       "<table border=\"1\" class=\"dataframe\">\n",
       "  <thead>\n",
       "    <tr style=\"text-align: right;\">\n",
       "      <th></th>\n",
       "      <th>vendor_id</th>\n",
       "      <th>pickup_datetime</th>\n",
       "      <th>dropoff_datetime</th>\n",
       "      <th>passenger_count</th>\n",
       "      <th>trip_distance</th>\n",
       "      <th>pickup_longitude</th>\n",
       "      <th>pickup_latitude</th>\n",
       "      <th>rate_code</th>\n",
       "      <th>store_and_fwd_flag</th>\n",
       "      <th>dropoff_longitude</th>\n",
       "      <th>dropoff_latitude</th>\n",
       "      <th>payment_type</th>\n",
       "      <th>fare_amount</th>\n",
       "      <th>extra</th>\n",
       "      <th>mta_tax</th>\n",
       "      <th>tip_amount</th>\n",
       "      <th>tolls_amount</th>\n",
       "      <th>imp_surcharge</th>\n",
       "      <th>total_amount</th>\n",
       "    </tr>\n",
       "  </thead>\n",
       "  <tbody>\n",
       "    <tr>\n",
       "      <th>0</th>\n",
       "      <td>2</td>\n",
       "      <td>2015-03-13 14:51:15 UTC</td>\n",
       "      <td>2015-03-13 15:19:19 UTC</td>\n",
       "      <td>1</td>\n",
       "      <td>11.28</td>\n",
       "      <td>-73.972084</td>\n",
       "      <td>40.756935</td>\n",
       "      <td>NaN</td>\n",
       "      <td>N</td>\n",
       "      <td>-73.864822</td>\n",
       "      <td>40.770325</td>\n",
       "      <td>1</td>\n",
       "      <td>32.5</td>\n",
       "      <td>0.0</td>\n",
       "      <td>0.5</td>\n",
       "      <td>7.73</td>\n",
       "      <td>5.33</td>\n",
       "      <td>0.3</td>\n",
       "      <td>46.36</td>\n",
       "    </tr>\n",
       "    <tr>\n",
       "      <th>1</th>\n",
       "      <td>2</td>\n",
       "      <td>2015-03-28 16:28:44 UTC</td>\n",
       "      <td>2015-03-28 16:38:45 UTC</td>\n",
       "      <td>1</td>\n",
       "      <td>2.63</td>\n",
       "      <td>-73.974602</td>\n",
       "      <td>40.742573</td>\n",
       "      <td>NaN</td>\n",
       "      <td>N</td>\n",
       "      <td>-73.987129</td>\n",
       "      <td>40.722481</td>\n",
       "      <td>1</td>\n",
       "      <td>11.0</td>\n",
       "      <td>0.0</td>\n",
       "      <td>0.5</td>\n",
       "      <td>1.00</td>\n",
       "      <td>0.00</td>\n",
       "      <td>0.3</td>\n",
       "      <td>12.80</td>\n",
       "    </tr>\n",
       "    <tr>\n",
       "      <th>2</th>\n",
       "      <td>1</td>\n",
       "      <td>2015-03-07 19:05:32 UTC</td>\n",
       "      <td>2015-03-07 19:16:54 UTC</td>\n",
       "      <td>1</td>\n",
       "      <td>2.20</td>\n",
       "      <td>-73.978783</td>\n",
       "      <td>40.762650</td>\n",
       "      <td>NaN</td>\n",
       "      <td>N</td>\n",
       "      <td>-73.979355</td>\n",
       "      <td>40.789497</td>\n",
       "      <td>1</td>\n",
       "      <td>10.0</td>\n",
       "      <td>0.0</td>\n",
       "      <td>0.5</td>\n",
       "      <td>1.20</td>\n",
       "      <td>0.00</td>\n",
       "      <td>0.3</td>\n",
       "      <td>12.00</td>\n",
       "    </tr>\n",
       "  </tbody>\n",
       "</table>\n",
       "</div>"
      ],
      "text/plain": [
       "   vendor_id          pickup_datetime         dropoff_datetime  \\\n",
       "0          2  2015-03-13 14:51:15 UTC  2015-03-13 15:19:19 UTC   \n",
       "1          2  2015-03-28 16:28:44 UTC  2015-03-28 16:38:45 UTC   \n",
       "2          1  2015-03-07 19:05:32 UTC  2015-03-07 19:16:54 UTC   \n",
       "\n",
       "   passenger_count  trip_distance  pickup_longitude  pickup_latitude  \\\n",
       "0                1          11.28        -73.972084        40.756935   \n",
       "1                1           2.63        -73.974602        40.742573   \n",
       "2                1           2.20        -73.978783        40.762650   \n",
       "\n",
       "   rate_code store_and_fwd_flag  dropoff_longitude  dropoff_latitude  \\\n",
       "0        NaN                  N         -73.864822         40.770325   \n",
       "1        NaN                  N         -73.987129         40.722481   \n",
       "2        NaN                  N         -73.979355         40.789497   \n",
       "\n",
       "   payment_type  fare_amount  extra  mta_tax  tip_amount  tolls_amount  \\\n",
       "0             1         32.5    0.0      0.5        7.73          5.33   \n",
       "1             1         11.0    0.0      0.5        1.00          0.00   \n",
       "2             1         10.0    0.0      0.5        1.20          0.00   \n",
       "\n",
       "   imp_surcharge  total_amount  \n",
       "0            0.3         46.36  \n",
       "1            0.3         12.80  \n",
       "2            0.3         12.00  "
      ]
     },
     "execution_count": 19,
     "metadata": {},
     "output_type": "execute_result"
    }
   ],
   "source": [
    "taxi_local[:3]"
   ]
  },
  {
   "cell_type": "code",
   "execution_count": 20,
   "metadata": {
    "collapsed": true
   },
   "outputs": [],
   "source": [
    "from pyspark.sql.functions import udf\n",
    "\n",
    "def trim_timezone(t):\n",
    "    \"\"\"'2015-03-04 09:10:47 UTC' => '2015-03-04 09:10:47'\"\"\"\n",
    "    try:\n",
    "        day, time, timezone = t.strip().split()\n",
    "        return ' '.join([day, time])\n",
    "    except Exception as e:\n",
    "        return 'cast_fail'\n",
    "# Convert standard py function into a UDF that Spark can package off\n",
    "# to each of the workers (runs in py4j on worker nodes).\n",
    "trim_timezone_udf=udf(trim_timezone)\n",
    "\n",
    "def with_typed_columns(df):    \n",
    "    return df.withColumn(\n",
    "        'pickup',\n",
    "        trim_timezone_udf('pickup_datetime').cast('timestamp')\n",
    "    ).withColumn(\n",
    "        'dropoff',\n",
    "        trim_timezone_udf('dropoff_datetime').cast('timestamp')\n",
    "    )"
   ]
  },
  {
   "cell_type": "code",
   "execution_count": 21,
   "metadata": {},
   "outputs": [
    {
     "name": "stdout",
     "output_type": "stream",
     "text": [
      "+---------+--------------------+--------------------+---------------+-------------+------------------+------------------+---------+------------------+------------------+-----------------+------------+-----------+-----+-------+----------+------------+-------------+------------+-------------------+-------------------+\n",
      "|vendor_id|     pickup_datetime|    dropoff_datetime|passenger_count|trip_distance|  pickup_longitude|   pickup_latitude|rate_code|store_and_fwd_flag| dropoff_longitude| dropoff_latitude|payment_type|fare_amount|extra|mta_tax|tip_amount|tolls_amount|imp_surcharge|total_amount|             pickup|            dropoff|\n",
      "+---------+--------------------+--------------------+---------------+-------------+------------------+------------------+---------+------------------+------------------+-----------------+------------+-----------+-----+-------+----------+------------+-------------+------------+-------------------+-------------------+\n",
      "|        2|2015-03-13 14:51:...|2015-03-13 15:19:...|              1|        11.28|-73.97208404541016|40.756935119628906|     null|                 N|-73.86482238769531|40.77032470703125|           1|       32.5|  0.0|    0.5|      7.73|        5.33|          0.3|       46.36|2015-03-13 14:51:15|2015-03-13 15:19:19|\n",
      "+---------+--------------------+--------------------+---------------+-------------+------------------+------------------+---------+------------------+------------------+-----------------+------------+-----------+-----+-------+----------+------------+-------------+------------+-------------------+-------------------+\n",
      "only showing top 1 row\n",
      "\n"
     ]
    }
   ],
   "source": [
    "taxi_typed = with_typed_columns(taxi_sample)\n",
    "taxi_typed.show(1)"
   ]
  },
  {
   "cell_type": "code",
   "execution_count": 23,
   "metadata": {},
   "outputs": [
    {
     "name": "stdout",
     "output_type": "stream",
     "text": [
      "+---------+--------------------+--------------------+---------------+-------------+------------------+------------------+---------+------------------+------------------+-----------------+------------+-----------+-----+-------+----------+------------+-------------+------------+-------------------+-------------------+-----------------+----------------+--------------+------------------+-----------------+---------------+\n",
      "|vendor_id|     pickup_datetime|    dropoff_datetime|passenger_count|trip_distance|  pickup_longitude|   pickup_latitude|rate_code|store_and_fwd_flag| dropoff_longitude| dropoff_latitude|payment_type|fare_amount|extra|mta_tax|tip_amount|tolls_amount|imp_surcharge|total_amount|             pickup|            dropoff|pickup_weekofyear|pickup_dayofyear|pickup_weekday|dropoff_weekofyear|dropoff_dayofyear|dropoff_weekday|\n",
      "+---------+--------------------+--------------------+---------------+-------------+------------------+------------------+---------+------------------+------------------+-----------------+------------+-----------+-----+-------+----------+------------+-------------+------------+-------------------+-------------------+-----------------+----------------+--------------+------------------+-----------------+---------------+\n",
      "|        2|2015-03-13 14:51:...|2015-03-13 15:19:...|              1|        11.28|-73.97208404541016|40.756935119628906|     null|                 N|-73.86482238769531|40.77032470703125|           1|       32.5|  0.0|    0.5|      7.73|        5.33|          0.3|       46.36|2015-03-13 14:51:15|2015-03-13 15:19:19|               11|              72|           Fri|                11|               72|            Fri|\n",
      "+---------+--------------------+--------------------+---------------+-------------+------------------+------------------+---------+------------------+------------------+-----------------+------------+-----------+-----+-------+----------+------------+-------------+------------+-------------------+-------------------+-----------------+----------------+--------------+------------------+-----------------+---------------+\n",
      "only showing top 1 row\n",
      "\n"
     ]
    }
   ],
   "source": [
    "# See available datframe transform funcs here\n",
    "# http://spark.apache.org/docs/latest/api/python/pyspark.sql.html\n",
    "from pyspark.sql.functions import *  # e.g., year, hour, date_format, ...\n",
    "\n",
    "# Note transform_func('existing_column_name').alias('typed_column_name')\n",
    "taxi_typed = taxi_typed.withColumn(\n",
    "    'pickup_weekofyear', \n",
    "    weekofyear('pickup')\n",
    "    ).withColumn(\n",
    "    'pickup_dayofyear',\n",
    "    dayofyear('pickup')\n",
    "    ).withColumn(\n",
    "    'pickup_weekday',\n",
    "    date_format('pickup','E')\n",
    "    ).withColumn(\n",
    "    'dropoff_weekofyear',\n",
    "    weekofyear('dropoff')\n",
    "    ).withColumn(\n",
    "    'dropoff_dayofyear',\n",
    "    dayofyear('dropoff')\n",
    "    ).withColumn(\n",
    "    'dropoff_weekday',\n",
    "    date_format('dropoff','E')) \n",
    "\n",
    "taxi_typed.show(1)"
   ]
  },
  {
   "cell_type": "code",
   "execution_count": 26,
   "metadata": {
    "collapsed": true
   },
   "outputs": [],
   "source": [
    "from pyspark.ml.feature import *\n",
    "\n",
    "def make_bucketer(input_col, output_col, sample, num_buckets=10):\n",
    "    # Define the hyperparameters of the the discretizer \n",
    "    qd = pyspark.ml.feature.QuantileDiscretizer(\n",
    "        numBuckets=num_buckets, \n",
    "        inputCol=input_col, \n",
    "        outputCol=output_col,)\n",
    "    \n",
    "    # Identify thresholds given the hyperparams for the sample of data\n",
    "    bucketer = qd.fit(sample)\n",
    "    \n",
    "    return bucketer"
   ]
  },
  {
   "cell_type": "code",
   "execution_count": 27,
   "metadata": {},
   "outputs": [
    {
     "data": {
      "text/plain": [
       "{'dropoff_latitude': Bucketizer_4009b8f73342890def4d,\n",
       " 'dropoff_longitude': Bucketizer_4a71bdce17be7746dea5,\n",
       " 'pickup_latitude': Bucketizer_4bdfbb3dcc566344fa26,\n",
       " 'pickup_longitude': Bucketizer_4c08a147e9e904b50aee}"
      ]
     },
     "execution_count": 27,
     "metadata": {},
     "output_type": "execute_result"
    }
   ],
   "source": [
    "geo_features = [\n",
    "    'pickup_latitude', 'pickup_longitude', \n",
    "    'dropoff_latitude', 'dropoff_longitude'\n",
    "]\n",
    "NUM_BUCKETS = 20\n",
    "geo_bucketers = {}\n",
    "for geo_f in geo_features:\n",
    "    geo_bucketer = make_bucketer(\n",
    "        geo_f, \"%s_q%d\" %(geo_f,NUM_BUCKETS),\n",
    "        taxi_typed,\n",
    "        num_buckets =NUM_BUCKETS)\n",
    "    geo_bucketers[geo_f] = geo_bucketer\n",
    "geo_bucketers"
   ]
  },
  {
   "cell_type": "code",
   "execution_count": 28,
   "metadata": {
    "collapsed": true
   },
   "outputs": [],
   "source": [
    "type(geo_bucketers)\n",
    "\n",
    "def bucketer_transform(bucketers, sample):\n",
    "    for bucketer_key, bucketer_value in bucketers.iteritems():\n",
    "        print \"applying transform for \", bucketer_key\n",
    "        sample = bucketer_value.transform(sample)\n",
    "    return sample"
   ]
  },
  {
   "cell_type": "code",
   "execution_count": 29,
   "metadata": {},
   "outputs": [
    {
     "name": "stdout",
     "output_type": "stream",
     "text": [
      "applying transform for  dropoff_longitude\n",
      "applying transform for  pickup_latitude\n",
      "applying transform for  dropoff_latitude\n",
      "applying transform for  pickup_longitude\n"
     ]
    },
    {
     "data": {
      "text/plain": [
       "['vendor_id',\n",
       " 'pickup_datetime',\n",
       " 'dropoff_datetime',\n",
       " 'passenger_count',\n",
       " 'trip_distance',\n",
       " 'pickup_longitude',\n",
       " 'pickup_latitude',\n",
       " 'rate_code',\n",
       " 'store_and_fwd_flag',\n",
       " 'dropoff_longitude',\n",
       " 'dropoff_latitude',\n",
       " 'payment_type',\n",
       " 'fare_amount',\n",
       " 'extra',\n",
       " 'mta_tax',\n",
       " 'tip_amount',\n",
       " 'tolls_amount',\n",
       " 'imp_surcharge',\n",
       " 'total_amount',\n",
       " 'pickup',\n",
       " 'dropoff',\n",
       " 'pickup_weekofyear',\n",
       " 'pickup_dayofyear',\n",
       " 'pickup_weekday',\n",
       " 'dropoff_weekofyear',\n",
       " 'dropoff_dayofyear',\n",
       " 'dropoff_weekday',\n",
       " 'dropoff_longitude_q20',\n",
       " 'pickup_latitude_q20',\n",
       " 'dropoff_latitude_q20',\n",
       " 'pickup_longitude_q20']"
      ]
     },
     "execution_count": 29,
     "metadata": {},
     "output_type": "execute_result"
    }
   ],
   "source": [
    "final_df = bucketer_transform(geo_bucketers, taxi_typed)\n",
    "final_df.columns"
   ]
  },
  {
   "cell_type": "code",
   "execution_count": 32,
   "metadata": {},
   "outputs": [
    {
     "data": {
      "text/plain": [
       "DataFrame[vendor_id: int, pickup_datetime: string, dropoff_datetime: string, passenger_count: int, trip_distance: double, pickup_longitude: double, pickup_latitude: double, rate_code: int, store_and_fwd_flag: string, dropoff_longitude: double, dropoff_latitude: double, payment_type: int, fare_amount: double, extra: double, mta_tax: double, tip_amount: double, tolls_amount: double, imp_surcharge: double, total_amount: double, pickup: timestamp, dropoff: timestamp, pickup_weekofyear: int, pickup_dayofyear: int, pickup_weekday: string, dropoff_weekofyear: int, dropoff_dayofyear: int, dropoff_weekday: string, dropoff_longitude_q20: double, pickup_latitude_q20: double, dropoff_latitude_q20: double, pickup_longitude_q20: double]"
      ]
     },
     "execution_count": 32,
     "metadata": {},
     "output_type": "execute_result"
    }
   ],
   "source": [
    "final_df.dropna()"
   ]
  },
  {
   "cell_type": "code",
   "execution_count": 33,
   "metadata": {
    "collapsed": true
   },
   "outputs": [],
   "source": [
    "def catToNumeric(column, df):\n",
    "    outputIndexerCol = \"%sIndex\" %(column)\n",
    "    stringIndexer = StringIndexer(inputCol=column, outputCol=outputIndexerCol)\n",
    "    model = stringIndexer.fit(df)\n",
    "    indexed = model.transform(df)\n",
    "\n",
    "    outputEncoderCol = \"%sVec\" %(column)\n",
    "    encoder = OneHotEncoder(inputCol=outputIndexerCol, outputCol=outputEncoderCol)\n",
    "    encoded = encoder.transform(indexed)\n",
    "    return encoded"
   ]
  },
  {
   "cell_type": "code",
   "execution_count": 34,
   "metadata": {
    "collapsed": true
   },
   "outputs": [],
   "source": [
    "categorical_features = [ 'payment_type','store_and_fwd_flag', 'pickup_weekday', 'dropoff_weekday']"
   ]
  },
  {
   "cell_type": "code",
   "execution_count": 35,
   "metadata": {},
   "outputs": [
    {
     "name": "stdout",
     "output_type": "stream",
     "text": [
      "root\n",
      " |-- vendor_id: integer (nullable = true)\n",
      " |-- pickup_datetime: string (nullable = true)\n",
      " |-- dropoff_datetime: string (nullable = true)\n",
      " |-- passenger_count: integer (nullable = true)\n",
      " |-- trip_distance: double (nullable = true)\n",
      " |-- pickup_longitude: double (nullable = true)\n",
      " |-- pickup_latitude: double (nullable = true)\n",
      " |-- rate_code: integer (nullable = true)\n",
      " |-- store_and_fwd_flag: string (nullable = true)\n",
      " |-- dropoff_longitude: double (nullable = true)\n",
      " |-- dropoff_latitude: double (nullable = true)\n",
      " |-- payment_type: integer (nullable = true)\n",
      " |-- fare_amount: double (nullable = true)\n",
      " |-- extra: double (nullable = true)\n",
      " |-- mta_tax: double (nullable = true)\n",
      " |-- tip_amount: double (nullable = true)\n",
      " |-- tolls_amount: double (nullable = true)\n",
      " |-- imp_surcharge: double (nullable = true)\n",
      " |-- total_amount: double (nullable = true)\n",
      " |-- pickup: timestamp (nullable = true)\n",
      " |-- dropoff: timestamp (nullable = true)\n",
      " |-- pickup_weekofyear: integer (nullable = true)\n",
      " |-- pickup_dayofyear: integer (nullable = true)\n",
      " |-- pickup_weekday: string (nullable = true)\n",
      " |-- dropoff_weekofyear: integer (nullable = true)\n",
      " |-- dropoff_dayofyear: integer (nullable = true)\n",
      " |-- dropoff_weekday: string (nullable = true)\n",
      " |-- dropoff_longitude_q20: double (nullable = true)\n",
      " |-- pickup_latitude_q20: double (nullable = true)\n",
      " |-- dropoff_latitude_q20: double (nullable = true)\n",
      " |-- pickup_longitude_q20: double (nullable = true)\n",
      " |-- vendor_idIndex: double (nullable = true)\n",
      " |-- vendor_idVec: vector (nullable = true)\n",
      " |-- payment_typeIndex: double (nullable = true)\n",
      " |-- payment_typeVec: vector (nullable = true)\n",
      " |-- store_and_fwd_flagIndex: double (nullable = true)\n",
      " |-- store_and_fwd_flagVec: vector (nullable = true)\n",
      " |-- pickup_weekdayIndex: double (nullable = true)\n",
      " |-- pickup_weekdayVec: vector (nullable = true)\n",
      " |-- dropoff_weekdayIndex: double (nullable = true)\n",
      " |-- dropoff_weekdayVec: vector (nullable = true)\n",
      "\n"
     ]
    }
   ],
   "source": [
    "indexedAndEncoded= catToNumeric(\"vendor_id\", final_df)\n",
    "\n",
    "for column in categorical_features:\n",
    "    indexedAndEncoded = catToNumeric(column,indexedAndEncoded)\n",
    "\n",
    "indexedAndEncoded.printSchema()\n"
   ]
  },
  {
   "cell_type": "code",
   "execution_count": 36,
   "metadata": {},
   "outputs": [
    {
     "name": "stdout",
     "output_type": "stream",
     "text": [
      "+---------+--------------------+--------------------+---------------+-------------+------------------+------------------+---------+------------------+------------------+-----------------+------------+-----------+-----+-------+----------+------------+-------------+------------+-------------------+-------------------+-----------------+----------------+--------------+------------------+-----------------+---------------+---------------------+-------------------+--------------------+--------------------+--------------+-------------+-----------------+---------------+-----------------------+---------------------+-------------------+-----------------+--------------------+------------------+\n",
      "|vendor_id|     pickup_datetime|    dropoff_datetime|passenger_count|trip_distance|  pickup_longitude|   pickup_latitude|rate_code|store_and_fwd_flag| dropoff_longitude| dropoff_latitude|payment_type|fare_amount|extra|mta_tax|tip_amount|tolls_amount|imp_surcharge|total_amount|             pickup|            dropoff|pickup_weekofyear|pickup_dayofyear|pickup_weekday|dropoff_weekofyear|dropoff_dayofyear|dropoff_weekday|dropoff_longitude_q20|pickup_latitude_q20|dropoff_latitude_q20|pickup_longitude_q20|vendor_idIndex| vendor_idVec|payment_typeIndex|payment_typeVec|store_and_fwd_flagIndex|store_and_fwd_flagVec|pickup_weekdayIndex|pickup_weekdayVec|dropoff_weekdayIndex|dropoff_weekdayVec|\n",
      "+---------+--------------------+--------------------+---------------+-------------+------------------+------------------+---------+------------------+------------------+-----------------+------------+-----------+-----+-------+----------+------------+-------------+------------+-------------------+-------------------+-----------------+----------------+--------------+------------------+-----------------+---------------+---------------------+-------------------+--------------------+--------------------+--------------+-------------+-----------------+---------------+-----------------------+---------------------+-------------------+-----------------+--------------------+------------------+\n",
      "|        2|2015-03-13 14:51:...|2015-03-13 15:19:...|              1|        11.28|-73.97208404541016|40.756935119628906|     null|                 N|-73.86482238769531|40.77032470703125|           1|       32.5|  0.0|    0.5|      7.73|        5.33|          0.3|       46.36|2015-03-13 14:51:15|2015-03-13 15:19:19|               11|              72|           Fri|                11|               72|            Fri|                 19.0|               11.0|                15.0|                13.0|           0.0|(1,[0],[1.0])|              0.0|  (3,[0],[1.0])|                    0.0|        (1,[0],[1.0])|                2.0|    (6,[2],[1.0])|                 2.0|     (6,[2],[1.0])|\n",
      "+---------+--------------------+--------------------+---------------+-------------+------------------+------------------+---------+------------------+------------------+-----------------+------------+-----------+-----+-------+----------+------------+-------------+------------+-------------------+-------------------+-----------------+----------------+--------------+------------------+-----------------+---------------+---------------------+-------------------+--------------------+--------------------+--------------+-------------+-----------------+---------------+-----------------------+---------------------+-------------------+-----------------+--------------------+------------------+\n",
      "only showing top 1 row\n",
      "\n"
     ]
    }
   ],
   "source": [
    "indexedAndEncoded.show(1)"
   ]
  },
  {
   "cell_type": "code",
   "execution_count": 38,
   "metadata": {},
   "outputs": [
    {
     "name": "stdout",
     "output_type": "stream",
     "text": [
      "80126\n",
      "19976\n"
     ]
    }
   ],
   "source": [
    "shuffled = indexedAndEncoded.randomSplit([0.8,0.2],80)\n",
    "print(shuffled[0].count())\n",
    "print(shuffled[1].count())"
   ]
  },
  {
   "cell_type": "code",
   "execution_count": 39,
   "metadata": {
    "collapsed": true
   },
   "outputs": [],
   "source": [
    "train = shuffled[0]\n",
    "train.count()\n",
    "train_X = train[feature_cols]\n",
    "train_Y = train[target_col]\n",
    "\n",
    "\n",
    "test = shuffled[1]\n",
    "test_X = test[feature_cols]\n",
    "test_Y = test[target_col]"
   ]
  },
  {
   "cell_type": "code",
   "execution_count": 41,
   "metadata": {
    "collapsed": true
   },
   "outputs": [],
   "source": [
    "from pyspark.ml.evaluation import RegressionEvaluator\n",
    "from pyspark.ml.regression import LinearRegression\n",
    "from pyspark.ml.tuning import ParamGridBuilder, TrainValidationSplit, CrossValidator\n",
    "from pyspark.ml.linalg import Vectors\n",
    "from pyspark.ml.feature import VectorAssembler"
   ]
  },
  {
   "cell_type": "code",
   "execution_count": null,
   "metadata": {
    "collapsed": true
   },
   "outputs": [],
   "source": [
    "from pyspark.ml.linalg import Vectors\n",
    "from pyspark.ml.feature import VectorAssembler"
   ]
  },
  {
   "cell_type": "code",
   "execution_count": null,
   "metadata": {},
   "outputs": [],
   "source": [
    "label_col = 'tip_amount'\n",
    "feature_cols = feature_cols = [c for c in train.columns\n",
    "                if c != label_col and not c in categorical_features\n",
    "                and c != 'vendor_id'\n",
    "                and c != 'pickup'\n",
    "                and c != 'dropoff'\n",
    "                and c != 'pickup_weekdayVec'\n",
    "                and c != 'dropoff_weekdayVec'\n",
    "                and c != 'rate_code'               \n",
    "                and not c.endswith('_datetime')]\n",
    "\n",
    "train_min = train[feature_cols + [label_col]]\n",
    "test_min = test[feature_cols + [label_col]]\n",
    "#feature_cols\n",
    "train.count()\n",
    "train.filter(\"rate_code is not NULL\")\n",
    "\n",
    "train.select([count(when(isnan(c) | col(c).isNull(), c)).alias(c) for c in feature_cols]).show()\n",
    "assembler = VectorAssembler(inputCols=feature_cols, outputCol='features')\n",
    "#assembler\n",
    "train_xform = assembler.transform(train.select(feature_cols + [label_col]))\n",
    "#train_xform.printSchema()\n",
    "test_xform = assembler.transform(test.select(feature_cols + [label_col]))\n",
    "\n",
    "taxi_train = train_xform.withColumnRenamed('tip_amount', 'label').select('label', 'features')\n",
    "taxi_train\n",
    "\n",
    "taxi_test = test_xform.withColumnRenamed('tip_amount', 'label').select('label', 'features')\n",
    "taxi_test\n"
   ]
  },
  {
   "cell_type": "code",
   "execution_count": 68,
   "metadata": {},
   "outputs": [
    {
     "data": {
      "text/plain": [
       "'cacheNodeIds: If false, the algorithm will pass trees to executors to match instances with nodes. If true, the algorithm will cache node IDs for each instance. Caching can speed up training of deeper trees. Users can set how often should the cache be checkpointed or disable it by setting checkpointInterval. (default: False)\\ncheckpointInterval: set checkpoint interval (>= 1) or disable checkpoint (-1). E.g. 10 means that the cache will get checkpointed every 10 iterations. (default: 10)\\nfeatureSubsetStrategy: The number of features to consider for splits at each tree node. Supported options: auto, all, onethird, sqrt, log2, (0.0-1.0], [1-n]. (default: auto)\\nfeaturesCol: features column name. (default: features, current: features)\\nimpurity: Criterion used for information gain calculation (case-insensitive). Supported options: variance (default: variance)\\nlabelCol: label column name. (default: label)\\nmaxBins: Max number of bins for discretizing continuous features.  Must be >=2 and >= number of categories for any categorical feature. (default: 32)\\nmaxDepth: Maximum depth of the tree. (>= 0) E.g., depth 0 means 1 leaf node; depth 1 means 1 internal node + 2 leaf nodes. (default: 5)\\nmaxMemoryInMB: Maximum memory in MB allocated to histogram aggregation. If too small, then 1 node will be split per iteration, and its aggregates may exceed this size. (default: 256)\\nminInfoGain: Minimum information gain for a split to be considered at a tree node. (default: 0.0)\\nminInstancesPerNode: Minimum number of instances each child must have after split. If a split causes the left or right child to have fewer than minInstancesPerNode, the split will be discarded as invalid. Should be >= 1. (default: 1)\\nnumTrees: Number of trees to train (>= 1). (default: 20)\\npredictionCol: prediction column name. (default: prediction)\\nseed: random seed. (default: -5851613654371098793)\\nsubsamplingRate: Fraction of the training data used for learning each decision tree, in range (0, 1]. (default: 1.0)'"
      ]
     },
     "execution_count": 68,
     "metadata": {},
     "output_type": "execute_result"
    }
   ],
   "source": [
    "from pyspark.ml.regression import RandomForestRegressor\n",
    "\n",
    "rf = RandomForestRegressor(featuresCol=\"features\")\n",
    "rf.explainParams()"
   ]
  },
  {
   "cell_type": "code",
   "execution_count": 69,
   "metadata": {},
   "outputs": [
    {
     "data": {
      "text/plain": [
       "0.7878973477517901"
      ]
     },
     "execution_count": 69,
     "metadata": {},
     "output_type": "execute_result"
    }
   ],
   "source": [
    "\n",
    "\n",
    "paramGrid = ParamGridBuilder()\\\n",
    "    .addGrid(rf.numTrees, [10.0, 20.0, 30.0]) \\\n",
    "    .addGrid(rf.maxDepth, [1.0, 6.0,10.0,15.0])\\\n",
    "    .addGrid(rf.maxBins, [20.0, 30.0])\\\n",
    "    .build()\n",
    "    \n",
    "\n",
    "rfEvalCV = RegressionEvaluator()\n",
    "rfCrossVal = CrossValidator(estimator=dt,\n",
    "                           estimatorParamMaps=paramGrid,\n",
    "                           evaluator=rfEvalCV,\n",
    "                           numFolds=8)\n",
    "rfCVmodel = rfCrossVal.fit(taxi_train)\n",
    "\n",
    "rfEvalCV.evaluate(rfCVmodel.transform(taxi_test), {rfEvalCV.metricName: \"r2\"})"
   ]
  },
  {
   "cell_type": "code",
   "execution_count": 71,
   "metadata": {},
   "outputs": [
    {
     "name": "stdout",
     "output_type": "stream",
     "text": [
      "root\n",
      " |-- label: double (nullable = true)\n",
      " |-- features: vector (nullable = true)\n",
      " |-- prediction: double (nullable = true)\n",
      "\n"
     ]
    }
   ],
   "source": [
    " rfCVmodel.transform(taxi_test).printSchema()"
   ]
  },
  {
   "cell_type": "code",
   "execution_count": 73,
   "metadata": {},
   "outputs": [
    {
     "data": {
      "text/plain": [
       "0.7878973477517901"
      ]
     },
     "execution_count": 73,
     "metadata": {},
     "output_type": "execute_result"
    }
   ],
   "source": [
    "bestModel = rfCVmodel.bestModel\n",
    "finalPredictions = bestModel.transform(taxi_test)\n",
    "rfEvalCV.evaluate(finalPredictions, {rfEvalCV.metricName: \"r2\"})"
   ]
  },
  {
   "cell_type": "raw",
   "metadata": {},
   "source": [
    "bestModel.explainParams()"
   ]
  },
  {
   "cell_type": "code",
   "execution_count": 78,
   "metadata": {},
   "outputs": [
    {
     "data": {
      "text/plain": [
       "'cacheNodeIds: If false, the algorithm will pass trees to executors to match instances with nodes. If true, the algorithm will cache node IDs for each instance. Caching can speed up training of deeper trees. Users can set how often should the cache be checkpointed or disable it by setting checkpointInterval. (default: False)\\ncheckpointInterval: set checkpoint interval (>= 1) or disable checkpoint (-1). E.g. 10 means that the cache will get checkpointed every 10 iterations. (default: 10)\\nfeaturesCol: features column name. (default: features, current: features)\\nimpurity: Criterion used for information gain calculation (case-insensitive). Supported options: variance (default: variance)\\nlabelCol: label column name. (default: label)\\nlossType: Loss function which GBT tries to minimize (case-insensitive). Supported options: squared, absolute (default: squared)\\nmaxBins: Max number of bins for discretizing continuous features.  Must be >=2 and >= number of categories for any categorical feature. (default: 32)\\nmaxDepth: Maximum depth of the tree. (>= 0) E.g., depth 0 means 1 leaf node; depth 1 means 1 internal node + 2 leaf nodes. (default: 5)\\nmaxIter: max number of iterations (>= 0). (default: 20)\\nmaxMemoryInMB: Maximum memory in MB allocated to histogram aggregation. If too small, then 1 node will be split per iteration, and its aggregates may exceed this size. (default: 256)\\nminInfoGain: Minimum information gain for a split to be considered at a tree node. (default: 0.0)\\nminInstancesPerNode: Minimum number of instances each child must have after split. If a split causes the left or right child to have fewer than minInstancesPerNode, the split will be discarded as invalid. Should be >= 1. (default: 1)\\npredictionCol: prediction column name. (default: prediction)\\nseed: random seed. (default: -6363326153609583521)\\nstepSize: Step size to be used for each iteration of optimization (>= 0). (default: 0.1)\\nsubsamplingRate: Fraction of the training data used for learning each decision tree, in range (0, 1]. (default: 1.0)'"
      ]
     },
     "execution_count": 78,
     "metadata": {},
     "output_type": "execute_result"
    }
   ],
   "source": [
    "from pyspark.ml.regression import GBTRegressor\n",
    "\n",
    "gbt = GBTRegressor(featuresCol=\"features\")\n",
    "gbt.explainParams()"
   ]
  },
  {
   "cell_type": "code",
   "execution_count": 82,
   "metadata": {},
   "outputs": [
    {
     "data": {
      "text/plain": [
       "0.8155093645113122"
      ]
     },
     "execution_count": 82,
     "metadata": {},
     "output_type": "execute_result"
    }
   ],
   "source": [
    "paramGrid = ParamGridBuilder()\\\n",
    "    .addGrid(gbt.maxDepth, [1.0, 6.0,10.0,15.0])\\\n",
    "    .addGrid(gbt.maxBins, [20.0, 30.0])\\\n",
    "    .build()\n",
    "    \n",
    "\n",
    "gbtEvalCV = RegressionEvaluator()\n",
    "gbtCrossVal = CrossValidator(estimator=gbt,\n",
    "                           estimatorParamMaps=paramGrid,\n",
    "                           evaluator=gbtEvalCV,\n",
    "                           numFolds=8)\n",
    "gbtCVmodel = gbtCrossVal.fit(taxi_train)\n",
    "\n",
    "gbtEvalCV.evaluate(gbtCVmodel.transform(taxi_test), {gbtEvalCV.metricName: \"r2\"})"
   ]
  },
  {
   "cell_type": "code",
   "execution_count": null,
   "metadata": {
    "collapsed": true
   },
   "outputs": [],
   "source": []
  }
 ],
 "metadata": {
  "kernelspec": {
   "display_name": "Python 3",
   "language": "python",
   "name": "python3"
  },
  "language_info": {
   "codemirror_mode": {
    "name": "ipython",
    "version": 3
   },
   "file_extension": ".py",
   "mimetype": "text/x-python",
   "name": "python",
   "nbconvert_exporter": "python",
   "pygments_lexer": "ipython3",
   "version": "3.6.5"
  }
 },
 "nbformat": 4,
 "nbformat_minor": 2
}
